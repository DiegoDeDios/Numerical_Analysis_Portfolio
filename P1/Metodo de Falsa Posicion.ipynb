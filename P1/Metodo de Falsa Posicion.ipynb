{
 "cells": [
  {
   "cell_type": "markdown",
   "metadata": {
    "collapsed": false
   },
   "source": [
    "Metodo de Falsa Posición"
   ]
  },
  {
   "cell_type": "code",
   "execution_count": 3,
   "metadata": {
    "collapsed": false
   },
   "outputs": [
   ],
   "source": [
    "def func( x ):\n",
    "    return (x**2-10)\n",
    "def B(x):\n",
    "    return 3+x\n",
    "def A(x):\n",
    "    return 3*x+((x**2)/2)\n",
    "def f(x):\n",
    "    return 1-((400/(9.81*(A(x))**3))*B(x))\n",
    "def FalsaPosicion( a , b):\n",
    "    if f(a) * f(b) >= 0:\n",
    "        print(\"Error en el rango\")\n",
    "        return -1\n",
    "    c = a\n",
    "    for i in range(10000):\n",
    "        c = (a * f(b) - b * f(a))/ (f(b) - f(a))\n",
    "        if f(c) == 0:\n",
    "            break\n",
    "        elif f(c) * f(a) < 0:\n",
    "            b = c\n",
    "        else:\n",
    "            a = c\n",
    "    print(\"La raiz es aproximadamente : \" , '%.4f' %c)"
   ]
  },
  {
   "cell_type": "code",
   "execution_count": 4,
   "metadata": {
    "collapsed": false
   },
   "outputs": [
    {
     "name": "stdout",
     "output_type": "stream",
     "text": [
      "La raiz es aproximadamente :  1.5141\n"
     ]
    }
   ],
   "source": [
    "FalsaPosicion(0.5,2.5)"
   ]
  },
  {
   "cell_type": "code",
   "execution_count": 0,
   "metadata": {
    "collapsed": false
   },
   "outputs": [
   ],
   "source": [
   ]
  }
 ],
 "metadata": {
  "kernelspec": {
   "display_name": "Python 3 (Anaconda 5)",
   "language": "python",
   "name": "anaconda5"
  },
  "language_info": {
   "codemirror_mode": {
    "name": "ipython",
    "version": 3
   },
   "file_extension": ".py",
   "mimetype": "text/x-python",
   "name": "python",
   "nbconvert_exporter": "python",
   "pygments_lexer": "ipython3",
   "version": "3.6.5"
  }
 },
 "nbformat": 4,
 "nbformat_minor": 0
}