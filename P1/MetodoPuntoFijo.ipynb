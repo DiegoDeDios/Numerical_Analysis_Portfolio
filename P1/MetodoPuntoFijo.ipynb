{
 "cells": [
  {
   "cell_type": "code",
   "execution_count": 3,
   "metadata": {
    "collapsed": false
   },
   "outputs": [
   ],
   "source": [
    "def f(x):\n",
    "    return 2*x**2-5*x+3"
   ]
  },
  {
   "cell_type": "markdown",
   "metadata": {
    "collapsed": false
   },
   "source": [
    "Despejar x = (2x^2)+3/5"
   ]
  },
  {
   "cell_type": "code",
   "execution_count": 13,
   "metadata": {
    "collapsed": false
   },
   "outputs": [
    {
     "name": "stdout",
     "output_type": "stream",
     "text": [
      "La raiz es 1.00000\n",
      "Hubo 55 iteraciones\n"
     ]
    }
   ],
   "source": [
    "def xnew(xprev):\n",
    "    return (2*xprev**2+3)/5\n",
    "x0 = 1.3\n",
    "iteraciones = 0\n",
    "for i in range(100):\n",
    "    x1= xnew(x0)\n",
    "    if abs(x1-x0) < 0.000001:\n",
    "        break\n",
    "    x0 = x1\n",
    "    iteraciones +=1\n",
    "print(\"La raiz es %.5f\"%x1)\n",
    "print(\"Hubo\",iteraciones,\"iteraciones\")"
   ]
  },
  {
   "cell_type": "code",
   "execution_count": 0,
   "metadata": {
    "collapsed": false
   },
   "outputs": [
   ],
   "source": [
   ]
  },
  {
   "cell_type": "code",
   "execution_count": 0,
   "metadata": {
    "collapsed": false
   },
   "outputs": [
   ],
   "source": [
   ]
  }
 ],
 "metadata": {
  "kernelspec": {
   "display_name": "Python 3 (Anaconda 5)",
   "language": "python",
   "name": "anaconda5"
  },
  "language_info": {
   "codemirror_mode": {
    "name": "ipython",
    "version": 3
   },
   "file_extension": ".py",
   "mimetype": "text/x-python",
   "name": "python",
   "nbconvert_exporter": "python",
   "pygments_lexer": "ipython3",
   "version": "3.6.5"
  }
 },
 "nbformat": 4,
 "nbformat_minor": 0
}