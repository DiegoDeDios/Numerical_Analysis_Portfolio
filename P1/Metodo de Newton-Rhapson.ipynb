{
 "cells": [
  {
   "cell_type": "code",
   "execution_count": 2,
   "metadata": {
    "collapsed": false
   },
   "outputs": [
   ],
   "source": [
    "def f(x):\n",
    "    return x**4-8.6*x**3-35.51*x**2+464*x-998.46"
   ]
  },
  {
   "cell_type": "code",
   "execution_count": 1,
   "metadata": {
    "collapsed": false
   },
   "outputs": [
   ],
   "source": [
    "def fprime(x):\n",
    "    return 4*x**3-25.8*x**2-71.02*x+464"
   ]
  },
  {
   "cell_type": "code",
   "execution_count": 3,
   "metadata": {
    "collapsed": false
   },
   "outputs": [
   ],
   "source": [
    "x0 = 7\n",
    "iteraciones = 0\n",
    "for i in range(100):\n",
    "    iteraciones+=1\n",
    "    xr = x0-f(x0)/fprime(x0)\n",
    "    fxr = f(xr)\n",
    "    if abs(fxr) < 0.0001:\n",
    "        break\n",
    "    x0 = xr"
   ]
  },
  {
   "cell_type": "code",
   "execution_count": 4,
   "metadata": {
    "collapsed": false
   },
   "outputs": [
    {
     "name": "stdout",
     "output_type": "stream",
     "text": [
      "Valor de raiz: 7.3698823897868\n",
      "Numero de iteraciones: 4\n"
     ]
    }
   ],
   "source": [
    "print(\"Valor de raiz:\",x0)\n",
    "print(\"Numero de iteraciones:\",iteraciones)"
   ]
  },
  {
   "cell_type": "code",
   "execution_count": 0,
   "metadata": {
    "collapsed": false
   },
   "outputs": [
   ],
   "source": [
   ]
  }
 ],
 "metadata": {
  "kernelspec": {
   "display_name": "Python 3 (Anaconda 5)",
   "language": "python",
   "name": "anaconda5"
  },
  "language_info": {
   "codemirror_mode": {
    "name": "ipython",
    "version": 3
   },
   "file_extension": ".py",
   "mimetype": "text/x-python",
   "name": "python",
   "nbconvert_exporter": "python",
   "pygments_lexer": "ipython3",
   "version": "3.6.5"
  }
 },
 "nbformat": 4,
 "nbformat_minor": 0
}