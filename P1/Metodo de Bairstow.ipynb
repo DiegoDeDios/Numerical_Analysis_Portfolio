{
 "cells": [
  {
   "cell_type": "markdown",
   "metadata": {
    "collapsed": false
   },
   "source": [
    "\"Division sintetica\"\n",
    "R= b1(x-r)+b0 = 0\n",
    "b1(r+dr,s+ds)\n",
    "\n",
    "b1+(derivada parcial de b1 con respecto a r)*dr+(derivada parcial de b1 con respecto a s)*ds = 0"
   ]
  },
  {
   "cell_type": "code",
   "execution_count": 5,
   "metadata": {
    "collapsed": false
   },
   "outputs": [
   ],
   "source": [
    "def f(x):\n",
    "    return x**5-3.5*x**4+2.75*x**3+2.125*x**2-3.875*x+1.25"
   ]
  },
  {
   "cell_type": "code",
   "execution_count": 6,
   "metadata": {
    "collapsed": false
   },
   "outputs": [
   ],
   "source": [
    "def bn(lst):\n",
    "    return lst[len(lst)-1]\n",
    "def b1(a,b,r):\n",
    "    returnlst[-2]+r*lst\n",
    "def bi(i,a,r,s,b):\n",
    "    return a[i]+r*b[0]+s*b[1]\n",
    "def cn(b):\n",
    "    return b(b)"
   ]
  },
  {
   "cell_type": "code",
   "execution_count": 7,
   "metadata": {
    "collapsed": false
   },
   "outputs": [
   ],
   "source": [
    "import math\n",
    "def cuadratica(a,b,c):\n",
    "    discriminante=b**2-4*a*c\n",
    "    if discriminante > 0:\n",
    "        rdiscriminante = math.sqrt(discriminante)\n",
    "        x1 = (-b + rdiscriminante)/2*a\n",
    "        x2 = (-b - rdiscriminante)/2*a\n",
    "        return [(x1,0),(x2,0)]\n",
    "    if(discriminante == 0):\n",
    "        x=-b/2*a\n",
    "        return [(x,0),(x,0)]\n",
    "    xr = -b/2*a\n",
    "    xi= math.sqrt(abs(discriminante))\n",
    "    return[(xr,xi),(xr,-xi)]"
   ]
  },
  {
   "cell_type": "code",
   "execution_count": 8,
   "metadata": {
    "collapsed": false
   },
   "outputs": [
    {
     "name": "stdout",
     "output_type": "stream",
     "text": [
      "[(5.23606797749979, 0), (0.7639320225002102, 0)]\n"
     ]
    }
   ],
   "source": [
    "raices = cuadratica(2,-3,0.5)\n",
    "print(raices)"
   ]
  },
  {
   "cell_type": "code",
   "execution_count": 9,
   "metadata": {
    "collapsed": false
   },
   "outputs": [
    {
     "name": "stdout",
     "output_type": "stream",
     "text": [
      "0.0007399085951589474 0.019430821233175678\n",
      "[-54.56812680195634, 463.2612308640776, -998.46]\n",
      "[-0.06003628358682733, 0.3611707351383284, -54.56812680195634, 463.2612308640776, -998.46]\n",
      "[[(0.23198787676225266, -0.028877610114885544), (0.23198787676225266, 0.028877610114885544)], [(0.13976492586885952, 0), (-0.1390250172737006, 0)]]\n"
     ]
    }
   ],
   "source": [
    "#Ejemplo Bairstow \n",
    "# f(x) = x^5 -3.5x^4 +2.75x^3 +2.125x^2 -3.875x + 1.25\n",
    "#[1.25,-3.875,2.125,2.75,-3.5,1]\n",
    "import math\n",
    "\n",
    "def cuadratica(a,b,c):\n",
    "    discriminante = b**2 - 4*a*c\n",
    "    if discriminante > 0:\n",
    "        rdiscriminante = math.sqrt(discriminante)\n",
    "        x1 = (-b + rdiscriminante )/(2*a)\n",
    "        x2 = (-b - rdiscriminante )/(2*a)\n",
    "        return [(x1,0),(x2,0)]\n",
    "    if discriminante == 0:\n",
    "        x = -b / (2*a)\n",
    "        return [(x,0),(x,0)]\n",
    "    xr = -b / (2*a)\n",
    "    xi = math.sqrt(abs(discriminante)) / (2*a)\n",
    "    return [(xr,xi),(xr,-xi)]\n",
    "\n",
    "def bn(a):\n",
    "    return a[-1]\n",
    "def bn1(a,b,r):\n",
    "    return a[-2] + r*b\n",
    "# [bn1, bn]\n",
    "def bi(i,a,r,s,b):\n",
    "    return a[i] + r*b[0] + s*b[1]\n",
    "\n",
    "def cn(b):\n",
    "    return bn(b)\n",
    "def cn1(b,c,r):\n",
    "    return bn1(b,c,r)\n",
    "def ci(i,b,r,s,c):\n",
    "    return bi(i,b,r,s,c)\n",
    "\n",
    "r = -1\n",
    "s = -1\n",
    "b = []\n",
    "raices = []\n",
    "a = [1,-8.6,-35.51,464,-998.46]\n",
    "while True:\n",
    "    for i in range(100):\n",
    "        b = []\n",
    "        c = []\n",
    "        b.append(bn(a))\n",
    "        b.insert(0, bn1(a,b[0],r))\n",
    "        limit = len(a) - 2\n",
    "        for i in reversed(range(0,limit)):\n",
    "            b.insert(0,bi(i,a,r,s,b))\n",
    "\n",
    "        c.append(cn(b))\n",
    "        c.insert(0,cn1(b,c[0],r))\n",
    "        for i in reversed(range(0,limit)):\n",
    "            c.insert(0,ci(i,b,r,s,c))\n",
    "\n",
    "        def deltaS(b,c):\n",
    "            return ((-b[1]/c[2]) + (b[0]/c[1])) / ((c[3]/c[2]) - (c[2]/c[1]))\n",
    "\n",
    "        def deltaR(b,c,dS):\n",
    "            return (-b[0]/c[1]) - ((c[2]/c[1])* dS)\n",
    "\n",
    "        dS = deltaS(b,c)\n",
    "        dR = deltaR(b,c,dS)\n",
    "\n",
    "        if abs(dS) < 0.01 and abs(dR) < 0.01:\n",
    "            break\n",
    "        r = r + dR\n",
    "        s = s + dS\n",
    "    print(r,s)\n",
    "    raices.insert(0,cuadratica(1,-r,-s))\n",
    "\n",
    "    #Actualizar el siguiente polinomio\n",
    "    a = b[2:]\n",
    "    print(a)\n",
    "    print(b)\n",
    "    grade = len(a)\n",
    "    if grade == 3: #El polinomio es de grado 2\n",
    "        raices.insert(0,cuadratica(a[2],a[1],a[0]))\n",
    "        break\n",
    "    if grade == 2: #El polinomio es de grado 1\n",
    "        raices.insert(0,-a[0]/a[1])\n",
    "        break\n",
    "\n",
    "print(raices)"
   ]
  },
  {
   "cell_type": "code",
   "execution_count": 0,
   "metadata": {
    "collapsed": false
   },
   "outputs": [
   ],
   "source": [
   ]
  },
  {
   "cell_type": "code",
   "execution_count": 0,
   "metadata": {
    "collapsed": false
   },
   "outputs": [
   ],
   "source": [
   ]
  }
 ],
 "metadata": {
  "kernelspec": {
   "display_name": "Python 3 (Anaconda 5)",
   "language": "python",
   "name": "anaconda5"
  },
  "language_info": {
   "codemirror_mode": {
    "name": "ipython",
    "version": 3
   },
   "file_extension": ".py",
   "mimetype": "text/x-python",
   "name": "python",
   "nbconvert_exporter": "python",
   "pygments_lexer": "ipython3",
   "version": "3.6.5"
  }
 },
 "nbformat": 4,
 "nbformat_minor": 0
}