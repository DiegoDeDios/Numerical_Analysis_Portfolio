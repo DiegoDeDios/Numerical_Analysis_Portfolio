{
 "cells": [
  {
   "cell_type": "code",
   "execution_count": 1,
   "metadata": {
    "collapsed": false
   },
   "outputs": [
    {
     "name": "stdout",
     "output_type": "stream",
     "text": [
      "x [1.    1.125 1.25  1.375 1.5   1.625 1.75  1.875 2.   ]\n",
      "y [0.8414709848078965, 0.9537954903016678, 0.9999655856782489, 0.949289297831397, 0.7780731968879212, 0.4802745099321658, 0.07901021674738969, -0.3653719487056276, -0.7568024953079282]\n",
      "trapecio 0.4896713241778934 0.125\n",
      "simpson13 0.4946131618985625\n",
      "simpson38 0.500694282231594\n"
     ]
    }
   ],
   "source": [
    "\n",
    "import numpy as np\n",
    "import math\n",
    "def trapecio(y,h):\n",
    "    I = y[0]\n",
    "    I += y[-1]\n",
    "    I += sum( 2*yi for yi in y[1:-1] )\n",
    "    I *= h/2\n",
    "    return I\n",
    "\n",
    "def simpson13(y,h):\n",
    "    I = y[0]\n",
    "    I += y[-1]\n",
    "    for i in range(1,len(y)-1):\n",
    "        if i % 2 == 0:\n",
    "            I += 2*y[i]\n",
    "        else:\n",
    "            I += 4*y[i]\n",
    "    I *= h/3\n",
    "    return I\n",
    "\n",
    "def simpson38(y,h):\n",
    "    I = y[0]\n",
    "    I += y[-1]\n",
    "    for i in range(1,len(y)-1):\n",
    "        if i % 3 == 0:\n",
    "            I += 2*y[i]\n",
    "        else:\n",
    "            I += 3*y[i]\n",
    "    I *= 3*h/8\n",
    "    return I\n",
    "\n",
    "n = 9\n",
    "a = 1\n",
    "b = 2\n",
    "h = abs(a-b)/(n -1)\n",
    "x = np.linspace(a,b,n)\n",
    "\n",
    "def fun(x):\n",
    "    return math.sin(x**2)\n",
    "y = [fun(xi) for xi in x]\n",
    "print('x',x)\n",
    "print('y',y)\n",
    "\n",
    "print('trapecio',trapecio(y,h),h)\n",
    "print('simpson13',simpson13(y,h))\n",
    "print('simpson38',simpson38(y,h))"
   ]
  },
  {
   "cell_type": "code",
   "execution_count": 0,
   "metadata": {
    "collapsed": false
   },
   "outputs": [
   ],
   "source": [
   ]
  }
 ],
 "metadata": {
  "kernelspec": {
   "display_name": "Python 3 (Anaconda 5)",
   "language": "python",
   "name": "anaconda5"
  }
 },
 "nbformat": 4,
 "nbformat_minor": 0
}