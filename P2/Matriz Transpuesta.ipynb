{
 "cells": [
  {
   "cell_type": "code",
   "execution_count": 2,
   "metadata": {
    "collapsed": false
   },
   "outputs": [
   ],
   "source": [
    "def MatrizTranspuesta(A):\n",
    "    m,n= getDimensions(A)\n",
    "    C= createMatrix(n,m,0)\n",
    "    for i in range(n):\n",
    "        for j in range(n):\n",
    "            C[j][i] = A[i][j]\n",
    "    return C"
   ]
  },
  {
   "cell_type": "code",
   "execution_count": 3,
   "metadata": {
    "collapsed": false
   },
   "outputs": [
   ],
   "source": [
    "def createMatrix(m,n,v):\n",
    "    C = []\n",
    "    for i in range(m):\n",
    "        C.append([])\n",
    "        for j in range(n):\n",
    "            C[i].append(v)\n",
    "    return C"
   ]
  },
  {
   "cell_type": "code",
   "execution_count": 4,
   "metadata": {
    "collapsed": false
   },
   "outputs": [
   ],
   "source": [
    "def getDimensions(A):\n",
    "    return (len(A), len(A[0]))"
   ]
  },
  {
   "cell_type": "code",
   "execution_count": 0,
   "metadata": {
    "collapsed": false
   },
   "outputs": [
   ],
   "source": [
    "def getMatrizAdjunta(A):\n",
    "    m,n = getDimensions(A)\n",
    "    if(m!=n):\n",
    "        print(\"La matriz no es cuadrada\")\n",
    "        return []\n",
    "    C = createMatrix(m,n,0)\n",
    "    for i in range(m):\n",
    "        for j in range(n):\n",
    "            C[i][j] = detMatrix(A,i,j)"
   ]
  }
 ],
 "metadata": {
  "kernelspec": {
   "display_name": "Python 3 (Anaconda 5)",
   "language": "python",
   "name": "anaconda5"
  },
  "language_info": {
   "codemirror_mode": {
    "name": "ipython",
    "version": 3
   },
   "file_extension": ".py",
   "mimetype": "text/x-python",
   "name": "python",
   "nbconvert_exporter": "python",
   "pygments_lexer": "ipython3",
   "version": "3.6.5"
  }
 },
 "nbformat": 4,
 "nbformat_minor": 0
}