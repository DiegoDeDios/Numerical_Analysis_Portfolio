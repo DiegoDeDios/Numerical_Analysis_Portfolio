{
 "cells": [
  {
   "cell_type": "code",
   "execution_count": 3,
   "metadata": {
    "collapsed": false
   },
   "outputs": [
   ],
   "source": [
    "def createMatrix(m,n,v):\n",
    "    C = []\n",
    "    for i in range(m):\n",
    "        C.append([])\n",
    "        for j in range(n):\n",
    "            C[i].append(v)\n",
    "    return C"
   ]
  },
  {
   "cell_type": "code",
   "execution_count": 13,
   "metadata": {
    "collapsed": false
   },
   "outputs": [
   ],
   "source": [
    "def getDimensions(A):\n",
    "    return (len(A), len(A[0]))"
   ]
  },
  {
   "cell_type": "code",
   "execution_count": 20,
   "metadata": {
    "collapsed": false
   },
   "outputs": [
   ],
   "source": [
    "def copyMatrix(B):\n",
    "    m,n = getDimensions(B)\n",
    "    A = createMatrix(m,n,0)\n",
    "    for i in range(m):\n",
    "        for j in range(n):\n",
    "            A[i][j] = B[i][j]\n",
    "    return A"
   ]
  },
  {
   "cell_type": "code",
   "execution_count": 24,
   "metadata": {
    "collapsed": false
   },
   "outputs": [
   ],
   "source": [
    "def sumaMatrix(A,B):\n",
    "    Am, An = getDimensions(A)\n",
    "    Bm, Bn = getDimensions(B)\n",
    "    if Am != Bm or Bm!= Bn:\n",
    "        return []\n",
    "    C = createMatrix(Am,An,0)\n",
    "    for i in range(Am):\n",
    "        for j in range(An):\n",
    "            C[i][j] = A[i][j] + B[i][j]\n",
    "    return C"
   ]
  },
  {
   "cell_type": "code",
   "execution_count": 26,
   "metadata": {
    "collapsed": false
   },
   "outputs": [
   ],
   "source": [
    "def restaMatrix(A,B):\n",
    "    Am, An = getDimensions(A)\n",
    "    Bm, Bn = getDimensions(B)\n",
    "    if Am != Bm or Bm!= Bn:\n",
    "        return []\n",
    "    C = createMatrix(Am,An,0)\n",
    "    for i in range(Am):\n",
    "        for j in range(An):\n",
    "            C[i][j] = A[i][j] - B[i][j]\n",
    "    return C"
   ]
  },
  {
   "cell_type": "code",
   "execution_count": 42,
   "metadata": {
    "collapsed": false
   },
   "outputs": [
    {
     "name": "stdout",
     "output_type": "stream",
     "text": [
      "[[18, 18], [18, 18]]\n"
     ]
    }
   ],
   "source": [
    "A = createMatrix (2,2,3)\n",
    "B = createMatrix(2,2,3)\n",
    "print(multiplicacionMatrix(A,B))"
   ]
  },
  {
   "cell_type": "code",
   "execution_count": 41,
   "metadata": {
    "collapsed": false
   },
   "outputs": [
   ],
   "source": [
    "def multiplicacionMatrix(A,B):\n",
    "    Am, An = getDimensions(A)\n",
    "    Bm, Bn = getDimensions(B)\n",
    "    if An != Bm:\n",
    "        return []\n",
    "    C = createMatrix(Am,Bn,0)\n",
    "    for i in range(Am):\n",
    "        for j in range(Bn):\n",
    "            C[i][j] = 0\n",
    "            for k in range(An):\n",
    "                C[i][j] += A[i][k] * B[k][j]\n",
    "    return C"
   ]
  },
  {
   "cell_type": "code",
   "execution_count": 0,
   "metadata": {
    "collapsed": false
   },
   "outputs": [
   ],
   "source": [
   ]
  }
 ],
 "metadata": {
  "kernelspec": {
   "display_name": "Python 3 (Anaconda 5)",
   "language": "python",
   "name": "anaconda5"
  },
  "language_info": {
   "codemirror_mode": {
    "name": "ipython",
    "version": 3
   },
   "file_extension": ".py",
   "mimetype": "text/x-python",
   "name": "python",
   "nbconvert_exporter": "python",
   "pygments_lexer": "ipython3",
   "version": "3.6.5"
  }
 },
 "nbformat": 4,
 "nbformat_minor": 0
}